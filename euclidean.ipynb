{
  "nbformat": 4,
  "nbformat_minor": 0,
  "metadata": {
    "colab": {
      "provenance": [],
      "authorship_tag": "ABX9TyN7s88YncrtXTntzkkIOGUF",
      "include_colab_link": true
    },
    "kernelspec": {
      "name": "python3",
      "display_name": "Python 3"
    },
    "language_info": {
      "name": "python"
    }
  },
  "cells": [
    {
      "cell_type": "markdown",
      "metadata": {
        "id": "view-in-github",
        "colab_type": "text"
      },
      "source": [
        "<a href=\"https://colab.research.google.com/github/pdbayes/music_related/blob/main/euclidean.ipynb\" target=\"_parent\"><img src=\"https://colab.research.google.com/assets/colab-badge.svg\" alt=\"Open In Colab\"/></a>"
      ]
    },
    {
      "cell_type": "code",
      "execution_count": 1,
      "metadata": {
        "id": "i7lSeqH9c9cY"
      },
      "outputs": [],
      "source": [
        "from math import gcd as bltin_gcd"
      ]
    },
    {
      "cell_type": "code",
      "source": [
        "def bjorklund(steps, pulses):\n",
        "    steps = int(steps)\n",
        "    pulses = int(pulses)\n",
        "    if pulses > steps:\n",
        "        raise ValueError\n",
        "    pattern = []\n",
        "    counts = []\n",
        "    remainders = []\n",
        "    divisor = steps - pulses\n",
        "    remainders.append(pulses)\n",
        "    level = 0\n",
        "    while True:\n",
        "        counts.append(divisor // remainders[level])\n",
        "        remainders.append(divisor % remainders[level])\n",
        "        divisor = remainders[level]\n",
        "        level = level + 1\n",
        "        if remainders[level] <= 1:\n",
        "            break\n",
        "    counts.append(divisor)\n",
        "\n",
        "    def build(level):\n",
        "        if level == -1:\n",
        "            pattern.append(0)\n",
        "        elif level == -2:\n",
        "            pattern.append(1)\n",
        "        else:\n",
        "            for i in range(0, counts[level]):\n",
        "                build(level - 1)\n",
        "            if remainders[level] != 0:\n",
        "                build(level - 2)\n",
        "\n",
        "    build(level)\n",
        "    i = pattern.index(1)\n",
        "    pattern = pattern[i:] + pattern[0:i]\n",
        "    return pattern\n",
        "\n",
        "def coprime2(a, b):\n",
        "  return bltin_gcd(a, b) != 1\n",
        "\n",
        "def patterns(steps):\n",
        "  for i in range(1,steps):\n",
        "    if(coprime2(steps,i)==0):\n",
        "     print(bjorklund(steps,i))"
      ],
      "metadata": {
        "id": "ixVemKTxFb6M"
      },
      "execution_count": 2,
      "outputs": []
    },
    {
      "cell_type": "code",
      "source": [
        "patterns(16)"
      ],
      "metadata": {
        "colab": {
          "base_uri": "https://localhost:8080/"
        },
        "id": "NO55w1cwdA1b",
        "outputId": "e8583960-b803-4147-b412-cb043366dc85"
      },
      "execution_count": 3,
      "outputs": [
        {
          "output_type": "stream",
          "name": "stdout",
          "text": [
            "[1, 0, 0, 0, 0, 0, 0, 0, 0, 0, 0, 0, 0, 0, 0, 0]\n",
            "[1, 0, 0, 0, 0, 1, 0, 0, 0, 0, 1, 0, 0, 0, 0, 0]\n",
            "[1, 0, 0, 1, 0, 0, 1, 0, 0, 1, 0, 0, 1, 0, 0, 0]\n",
            "[1, 0, 1, 0, 1, 0, 0, 1, 0, 1, 0, 1, 0, 0, 1, 0]\n",
            "[1, 0, 1, 0, 1, 0, 1, 1, 0, 1, 0, 1, 0, 1, 1, 0]\n",
            "[1, 1, 0, 1, 1, 0, 1, 1, 0, 1, 1, 0, 1, 1, 0, 1]\n",
            "[1, 1, 1, 1, 0, 1, 1, 1, 1, 0, 1, 1, 1, 1, 0, 1]\n",
            "[1, 1, 1, 1, 1, 1, 1, 1, 1, 1, 1, 1, 1, 1, 1, 0]\n"
          ]
        }
      ]
    },
    {
      "cell_type": "code",
      "source": [],
      "metadata": {
        "id": "-wmVlg5BdPX1"
      },
      "execution_count": null,
      "outputs": []
    }
  ]
}